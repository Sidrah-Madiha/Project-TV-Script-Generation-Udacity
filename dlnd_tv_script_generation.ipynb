{
  "nbformat": 4,
  "nbformat_minor": 0,
  "metadata": {
    "kernelspec": {
      "name": "python3",
      "display_name": "Python 3"
    },
    "language_info": {
      "codemirror_mode": {
        "name": "ipython",
        "version": 3
      },
      "file_extension": ".py",
      "mimetype": "text/x-python",
      "name": "python",
      "nbconvert_exporter": "python",
      "pygments_lexer": "ipython3",
      "version": "3.6.4"
    },
    "colab": {
      "name": "dlnd_tv_script_generation.ipynb",
      "provenance": [],
      "collapsed_sections": []
    },
    "accelerator": "GPU"
  },
  "cells": [
    {
      "cell_type": "markdown",
      "metadata": {
        "id": "3YbH6wU-90lI",
        "colab_type": "text"
      },
      "source": [
        "# TV Script Generation\n",
        "\n",
        "In this project, you'll generate your own [Seinfeld](https://en.wikipedia.org/wiki/Seinfeld) TV scripts using RNNs.  You'll be using part of the [Seinfeld dataset](https://www.kaggle.com/thec03u5/seinfeld-chronicles#scripts.csv) of scripts from 9 seasons.  The Neural Network you'll build will generate a new ,\"fake\" TV script, based on patterns it recognizes in this training data.\n",
        "\n",
        "## Get the Data\n",
        "\n",
        "The data is already provided for you in `./data/Seinfeld_Scripts.txt` and you're encouraged to open that file and look at the text. \n",
        ">* As a first step, we'll load in this data and look at some samples. \n",
        "* Then, you'll be tasked with defining and training an RNN to generate a new script!"
      ]
    },
    {
      "cell_type": "code",
      "metadata": {
        "id": "eFRiN7dtZkOj",
        "colab_type": "code",
        "colab": {
          "base_uri": "https://localhost:8080/",
          "height": 122
        },
        "outputId": "ce6281af-14bd-4deb-ad50-054ba3f3aa1c"
      },
      "source": [
        "from google.colab import drive\n",
        "drive.mount('/content/drive')"
      ],
      "execution_count": 1,
      "outputs": [
        {
          "output_type": "stream",
          "text": [
            "Go to this URL in a browser: https://accounts.google.com/o/oauth2/auth?client_id=947318989803-6bn6qk8qdgf4n4g3pfee6491hc0brc4i.apps.googleusercontent.com&redirect_uri=urn%3aietf%3awg%3aoauth%3a2.0%3aoob&response_type=code&scope=email%20https%3a%2f%2fwww.googleapis.com%2fauth%2fdocs.test%20https%3a%2f%2fwww.googleapis.com%2fauth%2fdrive%20https%3a%2f%2fwww.googleapis.com%2fauth%2fdrive.photos.readonly%20https%3a%2f%2fwww.googleapis.com%2fauth%2fpeopleapi.readonly\n",
            "\n",
            "Enter your authorization code:\n",
            "··········\n",
            "Mounted at /content/drive\n"
          ],
          "name": "stdout"
        }
      ]
    },
    {
      "cell_type": "code",
      "metadata": {
        "id": "E8pr7DIweaTU",
        "colab_type": "code",
        "colab": {
          "base_uri": "https://localhost:8080/",
          "height": 51
        },
        "outputId": "b3c562b2-e5fe-4d85-ccd5-27aac027b557"
      },
      "source": [
        "!ls /content/drive/My\\ Drive/TVscript/*.py"
      ],
      "execution_count": 2,
      "outputs": [
        {
          "output_type": "stream",
          "text": [
            "'/content/drive/My Drive/TVscript/helper.py'\n",
            "'/content/drive/My Drive/TVscript/problem_unittests.py'\n"
          ],
          "name": "stdout"
        }
      ]
    },
    {
      "cell_type": "code",
      "metadata": {
        "id": "DV01rz7Yepjp",
        "colab_type": "code",
        "colab": {}
      },
      "source": [
        "import sys\n",
        "sys.path.append('/content/drive/My Drive/TVscript')\n"
      ],
      "execution_count": 0,
      "outputs": []
    },
    {
      "cell_type": "code",
      "metadata": {
        "id": "RZaLrbedMB1T",
        "colab_type": "code",
        "colab": {}
      },
      "source": [
        "import os\n",
        "import pickle\n",
        "import torch\n",
        "\n",
        "\n",
        "SPECIAL_WORDS = {'PADDING': '<PAD>'}\n",
        "\n",
        "\n",
        "def load_data(path):\n",
        "    \"\"\"\n",
        "    Load Dataset from File\n",
        "    \"\"\"\n",
        "    input_file = os.path.join(path)\n",
        "    with open(input_file, \"r\") as f:\n",
        "        data = f.read()\n",
        "\n",
        "    return data\n",
        "\n",
        "\n",
        "def preprocess_and_save_data(dataset_path, token_lookup, create_lookup_tables):\n",
        "    \"\"\"\n",
        "    Preprocess Text Data\n",
        "    \"\"\"\n",
        "    text = load_data(dataset_path)\n",
        "    \n",
        "    # Ignore notice, since we don't use it for analysing the data\n",
        "    text = text[81:]\n",
        "\n",
        "    token_dict = token_lookup()\n",
        "    for key, token in token_dict.items():\n",
        "        text = text.replace(key, ' {} '.format(token))\n",
        "\n",
        "    text = text.lower()\n",
        "    text = text.split()\n",
        "\n",
        "    vocab_to_int, int_to_vocab = create_lookup_tables(text + list(SPECIAL_WORDS.values()))\n",
        "    int_text = [vocab_to_int[word] for word in text]\n",
        "    pickle.dump((int_text, vocab_to_int, int_to_vocab, token_dict), open('preprocess.p', 'wb'))\n",
        "\n",
        "\n",
        "def load_preprocess():\n",
        "    \"\"\"\n",
        "    Load the Preprocessed Training data and return them in batches of <batch_size> or less\n",
        "    \"\"\"\n",
        "    return pickle.load(open('preprocess.p', mode='rb'))\n",
        "\n",
        "\n",
        "def save_model(filename, decoder):\n",
        "    save_filename = os.path.splitext(os.path.basename(filename))[0] + '.pt'\n",
        "    torch.save(decoder, save_filename)\n",
        "\n",
        "\n",
        "def load_model(filename):\n",
        "    save_filename = os.path.splitext(os.path.basename(filename))[0] + '.pt'\n",
        "    return torch.load(save_filename)"
      ],
      "execution_count": 0,
      "outputs": []
    },
    {
      "cell_type": "code",
      "metadata": {
        "id": "BLid4rdH90lM",
        "colab_type": "code",
        "outputId": "438e672f-5b7d-4175-fd97-770e02ed0ef0",
        "colab": {
          "base_uri": "https://localhost:8080/",
          "height": 54
        }
      },
      "source": [
        "\"\"\"\n",
        "DON'T MODIFY ANYTHING IN THIS CELL\n",
        "\"\"\"\n",
        "# load in data\n",
        "import helper\n",
        "data_dir = './drive/My Drive/TVscript/data/Seinfeld_Scripts.txt'\n",
        "text = load_data(data_dir)\n",
        "text[:500]"
      ],
      "execution_count": 5,
      "outputs": [
        {
          "output_type": "execute_result",
          "data": {
            "text/plain": [
              "'jerry: do you know what this is all about? do you know, why were here? to be out, this is out...and out is one of the single most enjoyable experiences of life. people...did you ever hear people talking about we should go out? this is what theyre talking about...this whole thing, were all out now, no one is home. not one person here is home, were all out! there are people trying to find us, they dont know where we are. (on an imaginary phone) did you ring?, i cant find him. where did he go? he d'"
            ]
          },
          "metadata": {
            "tags": []
          },
          "execution_count": 5
        }
      ]
    },
    {
      "cell_type": "markdown",
      "metadata": {
        "id": "KgcDC7tR90lU",
        "colab_type": "text"
      },
      "source": [
        "## Explore the Data\n",
        "Play around with `view_line_range` to view different parts of the data. This will give you a sense of the data you'll be working with. You can see, for example, that it is all lowercase text, and each new line of dialogue is separated by a newline character `\\n`."
      ]
    },
    {
      "cell_type": "code",
      "metadata": {
        "id": "ZI_gxA5_90lV",
        "colab_type": "code",
        "outputId": "9eecb85c-7632-45ec-b7c1-aa8836662959",
        "colab": {
          "base_uri": "https://localhost:8080/",
          "height": 309
        }
      },
      "source": [
        "view_line_range = (0, 10)\n",
        "\n",
        "\"\"\"\n",
        "DON'T MODIFY ANYTHING IN THIS CELL THAT IS BELOW THIS LINE\n",
        "\"\"\"\n",
        "import numpy as np\n",
        "\n",
        "print('Dataset Stats')\n",
        "print('Roughly the number of unique words: {}'.format(len({word: None for word in text.split()})))\n",
        "\n",
        "lines = text.split('\\n')\n",
        "print('Number of lines: {}'.format(len(lines)))\n",
        "word_count_line = [len(line.split()) for line in lines]\n",
        "print('Average number of words in each line: {}'.format(np.average(word_count_line)))\n",
        "\n",
        "print()\n",
        "print('The lines {} to {}:'.format(*view_line_range))\n",
        "print('\\n'.join(text.split('\\n')[view_line_range[0]:view_line_range[1]]))"
      ],
      "execution_count": 6,
      "outputs": [
        {
          "output_type": "stream",
          "text": [
            "Dataset Stats\n",
            "Roughly the number of unique words: 46367\n",
            "Number of lines: 109233\n",
            "Average number of words in each line: 5.544240293684143\n",
            "\n",
            "The lines 0 to 10:\n",
            "jerry: do you know what this is all about? do you know, why were here? to be out, this is out...and out is one of the single most enjoyable experiences of life. people...did you ever hear people talking about we should go out? this is what theyre talking about...this whole thing, were all out now, no one is home. not one person here is home, were all out! there are people trying to find us, they dont know where we are. (on an imaginary phone) did you ring?, i cant find him. where did he go? he didnt tell me where he was going. he must have gone out. you wanna go out you get ready, you pick out the clothes, right? you take the shower, you get all ready, get the cash, get your friends, the car, the spot, the reservation...then youre standing around, what do you do? you go we gotta be getting back. once youre out, you wanna get back! you wanna go to sleep, you wanna get up, you wanna go out again tomorrow, right? where ever you are in life, its my feeling, youve gotta go. \n",
            "\n",
            "jerry: (pointing at georges shirt) see, to me, that button is in the worst possible spot. the second button literally makes or breaks the shirt, look at it. its too high! its in no-mans-land. you look like you live with your mother. \n",
            "\n",
            "george: are you through? \n",
            "\n",
            "jerry: you do of course try on, when you buy? \n",
            "\n",
            "george: yes, it was purple, i liked it, i dont actually recall considering the buttons. \n",
            "\n"
          ],
          "name": "stdout"
        }
      ]
    },
    {
      "cell_type": "markdown",
      "metadata": {
        "id": "v6_R5ZKM90lZ",
        "colab_type": "text"
      },
      "source": [
        "---\n",
        "## Implement Pre-processing Functions\n",
        "The first thing to do to any dataset is pre-processing.  Implement the following pre-processing functions below:\n",
        "- Lookup Table\n",
        "- Tokenize Punctuation\n",
        "\n",
        "### Lookup Table\n",
        "To create a word embedding, you first need to transform the words to ids.  In this function, create two dictionaries:\n",
        "- Dictionary to go from the words to an id, we'll call `vocab_to_int`\n",
        "- Dictionary to go from the id to word, we'll call `int_to_vocab`\n",
        "\n",
        "Return these dictionaries in the following **tuple** `(vocab_to_int, int_to_vocab)`"
      ]
    },
    {
      "cell_type": "code",
      "metadata": {
        "id": "hvFIbKOj90lb",
        "colab_type": "code",
        "outputId": "85a45560-227c-4437-c834-6bc3d4211479",
        "colab": {
          "base_uri": "https://localhost:8080/",
          "height": 34
        }
      },
      "source": [
        "import problem_unittests as tests\n",
        "\n",
        "def create_lookup_tables(text):\n",
        "    \"\"\"\n",
        "    Create lookup tables for vocabulary\n",
        "    :param text: The text of tv scripts split into words\n",
        "    :return: A tuple of dicts (vocab_to_int, int_to_vocab)\n",
        "    \"\"\"\n",
        "    # TODO: Implement Function\n",
        "    distinct_words = tuple(set(text))\n",
        "    vocab_to_int = {w : i for i, w in enumerate(distinct_words)}\n",
        "    int_to_vocab = {idx : vocab for vocab, idx in vocab_to_int.items()}\n",
        "    # return tuple\n",
        "    return (vocab_to_int, int_to_vocab)\n",
        "\n",
        "\n",
        "\"\"\"\n",
        "DON'T MODIFY ANYTHING IN THIS CELL THAT IS BELOW THIS LINE\n",
        "\"\"\"\n",
        "tests.test_create_lookup_tables(create_lookup_tables)"
      ],
      "execution_count": 7,
      "outputs": [
        {
          "output_type": "stream",
          "text": [
            "Tests Passed\n"
          ],
          "name": "stdout"
        }
      ]
    },
    {
      "cell_type": "markdown",
      "metadata": {
        "id": "K5hczrPr90lh",
        "colab_type": "text"
      },
      "source": [
        "### Tokenize Punctuation\n",
        "We'll be splitting the script into a word array using spaces as delimiters.  However, punctuations like periods and exclamation marks can create multiple ids for the same word. For example, \"bye\" and \"bye!\" would generate two different word ids.\n",
        "\n",
        "Implement the function `token_lookup` to return a dict that will be used to tokenize symbols like \"!\" into \"||Exclamation_Mark||\".  Create a dictionary for the following symbols where the symbol is the key and value is the token:\n",
        "- Period ( **.** )\n",
        "- Comma ( **,** )\n",
        "- Quotation Mark ( **\"** )\n",
        "- Semicolon ( **;** )\n",
        "- Exclamation mark ( **!** )\n",
        "- Question mark ( **?** )\n",
        "- Left Parentheses ( **(** )\n",
        "- Right Parentheses ( **)** )\n",
        "- Dash ( **-** )\n",
        "- Return ( **\\n** )\n",
        "\n",
        "This dictionary will be used to tokenize the symbols and add the delimiter (space) around it.  This separates each symbols as its own word, making it easier for the neural network to predict the next word. Make sure you don't use a value that could be confused as a word; for example, instead of using the value \"dash\", try using something like \"||dash||\"."
      ]
    },
    {
      "cell_type": "code",
      "metadata": {
        "id": "vZjRiXqW90li",
        "colab_type": "code",
        "colab": {
          "base_uri": "https://localhost:8080/",
          "height": 34
        },
        "outputId": "9207f6a1-a5b6-4bb7-f7a2-7b4fbba70a8f"
      },
      "source": [
        "def token_lookup():\n",
        "    \"\"\"\n",
        "    Generate a dict to turn punctuation into a token.\n",
        "    :return: Tokenized dictionary where the key is the punctuation and the value is the token\n",
        "    \"\"\"\n",
        "    # TODO: Implement Function\n",
        "    punctuation_lookup = {\n",
        "        \".\" :\"||period||\",\n",
        "        \",\": \"||comma||\",\n",
        "        '\\\"' : \"||quotation_mark||\",\n",
        "        \";\":\"||semicolon||\",\n",
        "        \"!\" : \"||exclamation_mark||\",\n",
        "        \"?\" : \"||question_mark||\",\n",
        "        \"(\": \"||left_parentheses||\",\n",
        "        \")\": \"||right_parentheses||\",\n",
        "        \"-\":\"||dash||\",\n",
        "        \"\\n\" : \"||return||\"\n",
        "    }\n",
        "        \n",
        "    return punctuation_lookup\n",
        "\n",
        "\"\"\"\n",
        "DON'T MODIFY ANYTHING IN THIS CELL THAT IS BELOW THIS LINE\n",
        "\"\"\"\n",
        "tests.test_tokenize(token_lookup)"
      ],
      "execution_count": 8,
      "outputs": [
        {
          "output_type": "stream",
          "text": [
            "Tests Passed\n"
          ],
          "name": "stdout"
        }
      ]
    },
    {
      "cell_type": "markdown",
      "metadata": {
        "id": "Phz75za190ln",
        "colab_type": "text"
      },
      "source": [
        "## Pre-process all the data and save it\n",
        "\n",
        "Running the code cell below will pre-process all the data and save it to file. You're encouraged to look at the code for `preprocess_and_save_data` in the `helpers.py` file to see what it's doing in detail, but you do not need to change this code."
      ]
    },
    {
      "cell_type": "code",
      "metadata": {
        "id": "8rCDBKoC90lo",
        "colab_type": "code",
        "colab": {}
      },
      "source": [
        "\"\"\"\n",
        "DON'T MODIFY ANYTHING IN THIS CELL\n",
        "\"\"\"\n",
        "# pre-process training data\n",
        "preprocess_and_save_data(data_dir, token_lookup, create_lookup_tables)"
      ],
      "execution_count": 0,
      "outputs": []
    },
    {
      "cell_type": "markdown",
      "metadata": {
        "id": "FuiwFqEO90ls",
        "colab_type": "text"
      },
      "source": [
        "# Check Point\n",
        "This is your first checkpoint. If you ever decide to come back to this notebook or have to restart the notebook, you can start from here. The preprocessed data has been saved to disk."
      ]
    },
    {
      "cell_type": "code",
      "metadata": {
        "id": "Ze34C0ae90lt",
        "colab_type": "code",
        "colab": {}
      },
      "source": [
        "\"\"\"\n",
        "DON'T MODIFY ANYTHING IN THIS CELL\n",
        "\"\"\"\n",
        "import helper\n",
        "import problem_unittests as tests\n",
        "\n",
        "int_text, vocab_to_int, int_to_vocab, token_dict = load_preprocess()"
      ],
      "execution_count": 0,
      "outputs": []
    },
    {
      "cell_type": "markdown",
      "metadata": {
        "id": "4xc6Eeww90lx",
        "colab_type": "text"
      },
      "source": [
        "## Build the Neural Network\n",
        "In this section, you'll build the components necessary to build an RNN by implementing the RNN Module and forward and backpropagation functions.\n",
        "\n",
        "### Check Access to GPU"
      ]
    },
    {
      "cell_type": "code",
      "metadata": {
        "id": "Uvfv_1U690ly",
        "colab_type": "code",
        "colab": {}
      },
      "source": [
        "\"\"\"\n",
        "DON'T MODIFY ANYTHING IN THIS CELL\n",
        "\"\"\"\n",
        "import torch\n",
        "\n",
        "# Check for a GPU\n",
        "train_on_gpu = torch.cuda.is_available()\n",
        "if not train_on_gpu:\n",
        "    print('No GPU found. Please use a GPU to train your neural network.')"
      ],
      "execution_count": 0,
      "outputs": []
    },
    {
      "cell_type": "markdown",
      "metadata": {
        "id": "HvCbJdYF90l2",
        "colab_type": "text"
      },
      "source": [
        "## Input\n",
        "Let's start with the preprocessed input data. We'll use [TensorDataset](http://pytorch.org/docs/master/data.html#torch.utils.data.TensorDataset) to provide a known format to our dataset; in combination with [DataLoader](http://pytorch.org/docs/master/data.html#torch.utils.data.DataLoader), it will handle batching, shuffling, and other dataset iteration functions.\n",
        "\n",
        "You can create data with TensorDataset by passing in feature and target tensors. Then create a DataLoader as usual.\n",
        "```\n",
        "data = TensorDataset(feature_tensors, target_tensors)\n",
        "data_loader = torch.utils.data.DataLoader(data, \n",
        "                                          batch_size=batch_size)\n",
        "```\n",
        "\n",
        "### Batching\n",
        "Implement the `batch_data` function to batch `words` data into chunks of size `batch_size` using the `TensorDataset` and `DataLoader` classes.\n",
        "\n",
        ">You can batch words using the DataLoader, but it will be up to you to create `feature_tensors` and `target_tensors` of the correct size and content for a given `sequence_length`.\n",
        "\n",
        "For example, say we have these as input:\n",
        "```\n",
        "words = [1, 2, 3, 4, 5, 6, 7]\n",
        "sequence_length = 4\n",
        "```\n",
        "\n",
        "Your first `feature_tensor` should contain the values:\n",
        "```\n",
        "[1, 2, 3, 4]\n",
        "```\n",
        "And the corresponding `target_tensor` should just be the next \"word\"/tokenized word value:\n",
        "```\n",
        "5\n",
        "```\n",
        "This should continue with the second `feature_tensor`, `target_tensor` being:\n",
        "```\n",
        "[2, 3, 4, 5]  # features\n",
        "6             # target\n",
        "```"
      ]
    },
    {
      "cell_type": "code",
      "metadata": {
        "id": "J96XW5tv90l4",
        "colab_type": "code",
        "colab": {}
      },
      "source": [
        "from torch.utils.data import TensorDataset, DataLoader\n",
        "\n",
        "\n",
        "def batch_data(words, sequence_length, batch_size):\n",
        "    \"\"\"\n",
        "    Batch the neural network data using DataLoader\n",
        "    :param words: The word ids of the TV scripts\n",
        "    :param sequence_length: The sequence length of each batch\n",
        "    :param batch_size: The size of each batch; the number of sequences in a batch\n",
        "    :return: DataLoader with batched data\n",
        "    \"\"\"\n",
        "    # TODO: Implement function\n",
        "    # words_in_batch = sequence_length*batch_size\n",
        "    # words = words[:words_in_batch]\n",
        "    iterateable_words =len(words)-sequence_length\n",
        "    feature_tensors , target_tensors = [] , []\n",
        "    for batch in range(0,iterateable_words):\n",
        "      feature = words[batch:batch+sequence_length]\n",
        "      target = words[batch+sequence_length]\n",
        "      feature_tensors.append(feature)\n",
        "      target_tensors.append(target)\n",
        "    data = TensorDataset(torch.from_numpy(np.asarray(feature_tensors)), torch.from_numpy(np.asarray(target_tensors)))\n",
        "    data_loader = torch.utils.data.DataLoader(data, shuffle=True, batch_size=batch_size)\n",
        "      \n",
        "    # return a dataloader\n",
        "    return data_loader\n",
        "\n",
        "# there is no test for this function, but you are encouraged to create\n",
        "# print statements and tests of your own\n",
        "\n",
        "\n"
      ],
      "execution_count": 0,
      "outputs": []
    },
    {
      "cell_type": "markdown",
      "metadata": {
        "id": "We4QOW5d90l7",
        "colab_type": "text"
      },
      "source": [
        "### Test your dataloader \n",
        "\n",
        "You'll have to modify this code to test a batching function, but it should look fairly similar.\n",
        "\n",
        "Below, we're generating some test text data and defining a dataloader using the function you defined, above. Then, we are getting some sample batch of inputs `sample_x` and targets `sample_y` from our dataloader.\n",
        "\n",
        "Your code should return something like the following (likely in a different order, if you shuffled your data):\n",
        "\n",
        "```\n",
        "torch.Size([10, 5])\n",
        "tensor([[ 28,  29,  30,  31,  32],\n",
        "        [ 21,  22,  23,  24,  25],\n",
        "        [ 17,  18,  19,  20,  21],\n",
        "        [ 34,  35,  36,  37,  38],\n",
        "        [ 11,  12,  13,  14,  15],\n",
        "        [ 23,  24,  25,  26,  27],\n",
        "        [  6,   7,   8,   9,  10],\n",
        "        [ 38,  39,  40,  41,  42],\n",
        "        [ 25,  26,  27,  28,  29],\n",
        "        [  7,   8,   9,  10,  11]])\n",
        "\n",
        "torch.Size([10])\n",
        "tensor([ 33,  26,  22,  39,  16,  28,  11,  43,  30,  12])\n",
        "```\n",
        "\n",
        "### Sizes\n",
        "Your sample_x should be of size `(batch_size, sequence_length)` or (10, 5) in this case and sample_y should just have one dimension: batch_size (10). \n",
        "\n",
        "### Values\n",
        "\n",
        "You should also notice that the targets, sample_y, are the *next* value in the ordered test_text data. So, for an input sequence `[ 28,  29,  30,  31,  32]` that ends with the value `32`, the corresponding output should be `33`."
      ]
    },
    {
      "cell_type": "code",
      "metadata": {
        "id": "9LxZ-gK190l9",
        "colab_type": "code",
        "colab": {
          "base_uri": "https://localhost:8080/",
          "height": 255
        },
        "outputId": "06023b9d-3dfa-48c5-fc15-1ff461ca855c"
      },
      "source": [
        "# test dataloader\n",
        "\n",
        "test_text = range(50)\n",
        "t_loader = batch_data(test_text, sequence_length=5, batch_size=10)\n",
        "\n",
        "data_iter = iter(t_loader)\n",
        "sample_x, sample_y = data_iter.next()\n",
        "\n",
        "print(sample_x.shape)\n",
        "print(sample_x)\n",
        "print()\n",
        "print(sample_y.shape)\n",
        "print(sample_y)"
      ],
      "execution_count": 13,
      "outputs": [
        {
          "output_type": "stream",
          "text": [
            "torch.Size([10, 5])\n",
            "tensor([[33, 34, 35, 36, 37],\n",
            "        [22, 23, 24, 25, 26],\n",
            "        [34, 35, 36, 37, 38],\n",
            "        [18, 19, 20, 21, 22],\n",
            "        [27, 28, 29, 30, 31],\n",
            "        [28, 29, 30, 31, 32],\n",
            "        [23, 24, 25, 26, 27],\n",
            "        [ 1,  2,  3,  4,  5],\n",
            "        [20, 21, 22, 23, 24],\n",
            "        [19, 20, 21, 22, 23]])\n",
            "\n",
            "torch.Size([10])\n",
            "tensor([38, 27, 39, 23, 32, 33, 28,  6, 25, 24])\n"
          ],
          "name": "stdout"
        }
      ]
    },
    {
      "cell_type": "markdown",
      "metadata": {
        "id": "l7jg-fF290mB",
        "colab_type": "text"
      },
      "source": [
        "---\n",
        "## Build the Neural Network\n",
        "Implement an RNN using PyTorch's [Module class](http://pytorch.org/docs/master/nn.html#torch.nn.Module). You may choose to use a GRU or an LSTM. To complete the RNN, you'll have to implement the following functions for the class:\n",
        " - `__init__` - The initialize function. \n",
        " - `init_hidden` - The initialization function for an LSTM/GRU hidden state\n",
        " - `forward` - Forward propagation function.\n",
        " \n",
        "The initialize function should create the layers of the neural network and save them to the class. The forward propagation function will use these layers to run forward propagation and generate an output and a hidden state.\n",
        "\n",
        "**The output of this model should be the *last* batch of word scores** after a complete sequence has been processed. That is, for each input sequence of words, we only want to output the word scores for a single, most likely, next word.\n",
        "\n",
        "### Hints\n",
        "\n",
        "1. Make sure to stack the outputs of the lstm to pass to your fully-connected layer, you can do this with `lstm_output = lstm_output.contiguous().view(-1, self.hidden_dim)`\n",
        "2. You can get the last batch of word scores by shaping the output of the final, fully-connected layer like so:\n",
        "\n",
        "```\n",
        "# reshape into (batch_size, seq_length, output_size)\n",
        "output = output.view(batch_size, -1, self.output_size)\n",
        "# get last batch\n",
        "out = output[:, -1]\n",
        "```"
      ]
    },
    {
      "cell_type": "code",
      "metadata": {
        "id": "CspkenDm90mC",
        "colab_type": "code",
        "colab": {
          "base_uri": "https://localhost:8080/",
          "height": 34
        },
        "outputId": "ace1a1a9-2516-418b-d190-5f37d99e3fca"
      },
      "source": [
        "import torch.nn as nn\n",
        "\n",
        "class RNN(nn.Module):\n",
        "    \n",
        "    def __init__(self, vocab_size, output_size, embedding_dim, hidden_dim, n_layers, dropout=0.5):\n",
        "        \"\"\"\n",
        "        Initialize the PyTorch RNN Module\n",
        "        :param vocab_size: The number of input dimensions of the neural network (the size of the vocabulary)\n",
        "        :param output_size: The number of output dimensions of the neural network\n",
        "        :param embedding_dim: The size of embeddings, should you choose to use them        \n",
        "        :param hidden_dim: The size of the hidden layer outputs\n",
        "        :param dropout: dropout to add in between LSTM/GRU layers\n",
        "        \"\"\"\n",
        "        super(RNN, self).__init__()\n",
        "        # TODO: Implement function\n",
        "        \n",
        "        # set class variables\n",
        "        self.vocab_size =vocab_size\n",
        "        self.output_size = output_size\n",
        "        self.hidden_dim = hidden_dim\n",
        "        self.n_layers =n_layers\n",
        "        \n",
        "        # define model layers\n",
        "        self.embedding = nn.Embedding(vocab_size, embedding_dim)\n",
        "        self.lstm = nn.LSTM(embedding_dim, hidden_dim, n_layers, dropout=dropout, batch_first=True )\n",
        "        #self.dropout = nn.Dropout(0.3)\n",
        "        self.fc = nn.Linear(hidden_dim, output_size)\n",
        "        \n",
        "\n",
        "    \n",
        "    \n",
        "    def forward(self, nn_input, hidden):\n",
        "        \"\"\"\n",
        "        Forward propagation of the neural network\n",
        "        :param nn_input: The input to the neural network\n",
        "        :param hidden: The hidden state        \n",
        "        :return: Two Tensors, the output of the neural network and the latest hidden state\n",
        "        \"\"\"\n",
        "        # TODO: Implement function   \n",
        "        batch_size = nn_input.size(0)\n",
        "        x = self.embedding(nn_input)\n",
        "        x, hidden = self.lstm(x)\n",
        "        lstm_output = x.contiguous().view(-1, self.hidden_dim)\n",
        "        #lstm_output = self.dropout()\n",
        "        out = self.fc(lstm_output)\n",
        "        \n",
        "        out = out.view(batch_size, -1,self.output_size)\n",
        "        out = out[:, -1]\n",
        "        # return one batch of output word scores and the hidden state\n",
        "        return out, hidden\n",
        "    \n",
        "    \n",
        "    def init_hidden(self, batch_size):\n",
        "        '''\n",
        "        Initialize the hidden state of an LSTM/GRU\n",
        "        :param batch_size: The batch_size of the hidden state\n",
        "        :return: hidden state of dims (n_layers, batch_size, hidden_dim)\n",
        "        '''\n",
        "        # Implement function\n",
        "        \n",
        "        # initialize hidden state with zero weights, and move to GPU if available\n",
        "        weight = next(self.parameters()).data\n",
        "        \n",
        "        if (train_on_gpu):\n",
        "            hidden = (weight.new(self.n_layers, batch_size, self.hidden_dim).zero_().cuda(),\n",
        "                  weight.new(self.n_layers, batch_size, self.hidden_dim).zero_().cuda())\n",
        "        else:\n",
        "            hidden = (weight.new(self.n_layers, batch_size, self.hidden_dim).zero_(),\n",
        "                      weight.new(self.n_layers, batch_size, self.hidden_dim).zero_())\n",
        "        \n",
        "        return hidden\n",
        "        \n",
        "        \n",
        "\n",
        "\"\"\"\n",
        "DON'T MODIFY ANYTHING IN THIS CELL THAT IS BELOW THIS LINE\n",
        "\"\"\"\n",
        "tests.test_rnn(RNN, train_on_gpu)"
      ],
      "execution_count": 30,
      "outputs": [
        {
          "output_type": "stream",
          "text": [
            "Tests Passed\n"
          ],
          "name": "stdout"
        }
      ]
    },
    {
      "cell_type": "markdown",
      "metadata": {
        "id": "4XaRSiVY90mH",
        "colab_type": "text"
      },
      "source": [
        "### Define forward and backpropagation\n",
        "\n",
        "Use the RNN class you implemented to apply forward and back propagation. This function will be called, iteratively, in the training loop as follows:\n",
        "```\n",
        "loss = forward_back_prop(decoder, decoder_optimizer, criterion, inp, target)\n",
        "```\n",
        "\n",
        "And it should return the average loss over a batch and the hidden state returned by a call to `RNN(inp, hidden)`. Recall that you can get this loss by computing it, as usual, and calling `loss.item()`.\n",
        "\n",
        "**If a GPU is available, you should move your data to that GPU device, here.**"
      ]
    },
    {
      "cell_type": "code",
      "metadata": {
        "id": "dOz5s09R90mI",
        "colab_type": "code",
        "colab": {
          "base_uri": "https://localhost:8080/",
          "height": 34
        },
        "outputId": "90f03f70-e5b1-4b7e-e28a-6618db9d526e"
      },
      "source": [
        "def forward_back_prop(rnn, optimizer, criterion, inp, target, hidden):\n",
        "    \"\"\"\n",
        "    Forward and backward propagation on the neural network\n",
        "    :param rnn: The PyTorch Module that holds the neural network\n",
        "    :param optimizer: The PyTorch optimizer for the neural network\n",
        "    :param criterion: The PyTorch loss function\n",
        "    :param inp: A batch of input to the neural network\n",
        "    :param target: The target output for the batch of input\n",
        "    :return: The loss and the latest hidden state Tensor\n",
        "    \"\"\"\n",
        "    \n",
        "    # TODO: Implement Function\n",
        "    \n",
        "    # move data to GPU, if available\n",
        "    if train_on_gpu:\n",
        "      inp, target =inp.cuda(), target.cuda()\n",
        "      \n",
        "\n",
        "    hidden = tuple([each.data for each in hidden])\n",
        "    rnn.zero_grad()\n",
        "\n",
        "    output , hidden =rnn(inp, hidden)\n",
        "    loss = criterion(output, target)\n",
        "    loss.backward()\n",
        "    nn.utils.clip_grad_norm_(rnn.parameters(), 5)\n",
        "    optimizer.step()\n",
        "\n",
        "    # perform backpropagation and optimization\n",
        "\n",
        "    # return the loss over a batch and the hidden state produced by our model\n",
        "    return loss.item() , hidden\n",
        "\n",
        "# Note that these tests aren't completely extensive.\n",
        "# they are here to act as general checks on the expected outputs of your functions\n",
        "\"\"\"\n",
        "DON'T MODIFY ANYTHING IN THIS CELL THAT IS BELOW THIS LINE\n",
        "\"\"\"\n",
        "tests.test_forward_back_prop(RNN, forward_back_prop, train_on_gpu)"
      ],
      "execution_count": 31,
      "outputs": [
        {
          "output_type": "stream",
          "text": [
            "Tests Passed\n"
          ],
          "name": "stdout"
        }
      ]
    },
    {
      "cell_type": "markdown",
      "metadata": {
        "id": "bD_EO0dp90mM",
        "colab_type": "text"
      },
      "source": [
        "## Neural Network Training\n",
        "\n",
        "With the structure of the network complete and data ready to be fed in the neural network, it's time to train it.\n",
        "\n",
        "### Train Loop\n",
        "\n",
        "The training loop is implemented for you in the `train_decoder` function. This function will train the network over all the batches for the number of epochs given. The model progress will be shown every number of batches. This number is set with the `show_every_n_batches` parameter. You'll set this parameter along with other parameters in the next section."
      ]
    },
    {
      "cell_type": "code",
      "metadata": {
        "id": "K9H7-H4V90mN",
        "colab_type": "code",
        "colab": {}
      },
      "source": [
        "\"\"\"\n",
        "DON'T MODIFY ANYTHING IN THIS CELL\n",
        "\"\"\"\n",
        "\n",
        "def train_rnn(rnn, batch_size, optimizer, criterion, n_epochs, show_every_n_batches=100):\n",
        "    batch_losses = []\n",
        "    \n",
        "    rnn.train()\n",
        "\n",
        "    print(\"Training for %d epoch(s)...\" % n_epochs)\n",
        "    for epoch_i in range(1, n_epochs + 1):\n",
        "        \n",
        "        # initialize hidden state\n",
        "        hidden = rnn.init_hidden(batch_size)\n",
        "        \n",
        "        for batch_i, (inputs, labels) in enumerate(train_loader, 1):\n",
        "            \n",
        "            # make sure you iterate over completely full batches, only\n",
        "            n_batches = len(train_loader.dataset)//batch_size\n",
        "            if(batch_i > n_batches):\n",
        "                break\n",
        "            \n",
        "            # forward, back prop\n",
        "            loss, hidden = forward_back_prop(rnn, optimizer, criterion, inputs, labels, hidden)          \n",
        "            # record loss\n",
        "            batch_losses.append(loss)\n",
        "\n",
        "            # printing loss stats\n",
        "            if batch_i % show_every_n_batches == 0:\n",
        "                print('Epoch: {:>4}/{:<4}  Loss: {}\\n'.format(\n",
        "                    epoch_i, n_epochs, np.average(batch_losses)))\n",
        "                batch_losses = []\n",
        "\n",
        "    # returns a trained rnn\n",
        "    return rnn"
      ],
      "execution_count": 0,
      "outputs": []
    },
    {
      "cell_type": "markdown",
      "metadata": {
        "id": "_ptklktq90mR",
        "colab_type": "text"
      },
      "source": [
        "### Hyperparameters\n",
        "\n",
        "Set and train the neural network with the following parameters:\n",
        "- Set `sequence_length` to the length of a sequence.\n",
        "- Set `batch_size` to the batch size.\n",
        "- Set `num_epochs` to the number of epochs to train for.\n",
        "- Set `learning_rate` to the learning rate for an Adam optimizer.\n",
        "- Set `vocab_size` to the number of unique tokens in our vocabulary.\n",
        "- Set `output_size` to the desired size of the output.\n",
        "- Set `embedding_dim` to the embedding dimension; smaller than the vocab_size.\n",
        "- Set `hidden_dim` to the hidden dimension of your RNN.\n",
        "- Set `n_layers` to the number of layers/cells in your RNN.\n",
        "- Set `show_every_n_batches` to the number of batches at which the neural network should print progress.\n",
        "\n",
        "If the network isn't getting the desired results, tweak these parameters and/or the layers in the `RNN` class."
      ]
    },
    {
      "cell_type": "code",
      "metadata": {
        "id": "awLZKpLu90mS",
        "colab_type": "code",
        "colab": {}
      },
      "source": [
        "# Data params\n",
        "# Sequence Length\n",
        "sequence_length = 20   # of words in a sequence\n",
        "# Batch Size\n",
        "batch_size = 128\n",
        "\n",
        "# data loader - do not change\n",
        "train_loader = batch_data(int_text, sequence_length, batch_size)"
      ],
      "execution_count": 0,
      "outputs": []
    },
    {
      "cell_type": "code",
      "metadata": {
        "id": "_q0_zf7n90mW",
        "colab_type": "code",
        "colab": {}
      },
      "source": [
        "# Training parameters\n",
        "# Number of Epochs\n",
        "num_epochs = 10\n",
        "# Learning Rate\n",
        "learning_rate = 0.001\n",
        "\n",
        "# Model parameters\n",
        "# Vocab size\n",
        "vocab_size = len(vocab_to_int)\n",
        "# Output size\n",
        "output_size = vocab_size\n",
        "# Embedding Dimension\n",
        "embedding_dim = 200\n",
        "# Hidden Dimension\n",
        "hidden_dim = 256\n",
        "# Number of RNN Layers\n",
        "n_layers = 2\n",
        "\n",
        "# Show stats for every n number of batches\n",
        "show_every_n_batches = 500"
      ],
      "execution_count": 0,
      "outputs": []
    },
    {
      "cell_type": "markdown",
      "metadata": {
        "id": "iH6KZKTd90mc",
        "colab_type": "text"
      },
      "source": [
        "### Train\n",
        "In the next cell, you'll train the neural network on the pre-processed data.  If you have a hard time getting a good loss, you may consider changing your hyperparameters. In general, you may get better results with larger hidden and n_layer dimensions, but larger models take a longer time to train. \n",
        "> **You should aim for a loss less than 3.5.** \n",
        "\n",
        "You should also experiment with different sequence lengths, which determine the size of the long range dependencies that a model can learn."
      ]
    },
    {
      "cell_type": "code",
      "metadata": {
        "id": "Q8pn17Vv90md",
        "colab_type": "code",
        "colab": {
          "base_uri": "https://localhost:8080/",
          "height": 1000
        },
        "outputId": "0be6370a-718f-4ab8-c341-9f602a1b76c5"
      },
      "source": [
        "\"\"\"\n",
        "DON'T MODIFY ANYTHING IN THIS CELL\n",
        "\"\"\"\n",
        "\n",
        "# create model and move to gpu if available\n",
        "rnn = RNN(vocab_size, output_size, embedding_dim, hidden_dim, n_layers, dropout=0.5)\n",
        "if train_on_gpu:\n",
        "    rnn.cuda()\n",
        "\n",
        "# defining loss and optimization functions for training\n",
        "optimizer = torch.optim.Adam(rnn.parameters(), lr=learning_rate)\n",
        "criterion = nn.CrossEntropyLoss()\n",
        "\n",
        "# training the model\n",
        "trained_rnn = train_rnn(rnn, batch_size, optimizer, criterion, num_epochs, show_every_n_batches)\n",
        "\n",
        "# saving the trained model\n",
        "helper.save_model('./save/trained_rnn', trained_rnn)\n",
        "print('Model Trained and Saved')"
      ],
      "execution_count": 35,
      "outputs": [
        {
          "output_type": "stream",
          "text": [
            "Training for 10 epoch(s)...\n",
            "Epoch:    1/10    Loss: 5.575706807136536\n",
            "\n",
            "Epoch:    1/10    Loss: 4.90924904346466\n",
            "\n",
            "Epoch:    1/10    Loss: 4.700540616512298\n",
            "\n",
            "Epoch:    1/10    Loss: 4.547107690811157\n",
            "\n",
            "Epoch:    1/10    Loss: 4.438326585292816\n",
            "\n",
            "Epoch:    1/10    Loss: 4.3978748478889464\n",
            "\n",
            "Epoch:    1/10    Loss: 4.361511003017426\n",
            "\n",
            "Epoch:    1/10    Loss: 4.3178159608840945\n",
            "\n",
            "Epoch:    1/10    Loss: 4.277780199527741\n",
            "\n",
            "Epoch:    1/10    Loss: 4.237183107852935\n",
            "\n",
            "Epoch:    1/10    Loss: 4.2200387077331545\n",
            "\n",
            "Epoch:    1/10    Loss: 4.1980253329277035\n",
            "\n",
            "Epoch:    1/10    Loss: 4.177085253238678\n",
            "\n",
            "Epoch:    2/10    Loss: 4.075770305529222\n",
            "\n",
            "Epoch:    2/10    Loss: 3.967955445766449\n",
            "\n",
            "Epoch:    2/10    Loss: 3.975082359790802\n",
            "\n",
            "Epoch:    2/10    Loss: 3.954432213306427\n",
            "\n",
            "Epoch:    2/10    Loss: 3.9587231130599974\n",
            "\n",
            "Epoch:    2/10    Loss: 3.9691842975616454\n",
            "\n",
            "Epoch:    2/10    Loss: 3.9357147345542907\n",
            "\n",
            "Epoch:    2/10    Loss: 3.939382186412811\n",
            "\n",
            "Epoch:    2/10    Loss: 3.9417042207717894\n",
            "\n",
            "Epoch:    2/10    Loss: 3.932164788722992\n",
            "\n",
            "Epoch:    2/10    Loss: 3.912964267730713\n",
            "\n",
            "Epoch:    2/10    Loss: 3.9197040038108826\n",
            "\n",
            "Epoch:    2/10    Loss: 3.934890839099884\n",
            "\n",
            "Epoch:    3/10    Loss: 3.84299281236434\n",
            "\n",
            "Epoch:    3/10    Loss: 3.753591956615448\n",
            "\n",
            "Epoch:    3/10    Loss: 3.7570202379226685\n",
            "\n",
            "Epoch:    3/10    Loss: 3.7328492074012756\n",
            "\n",
            "Epoch:    3/10    Loss: 3.754250391483307\n",
            "\n",
            "Epoch:    3/10    Loss: 3.766253586769104\n",
            "\n",
            "Epoch:    3/10    Loss: 3.746091541290283\n",
            "\n",
            "Epoch:    3/10    Loss: 3.7535328531265257\n",
            "\n",
            "Epoch:    3/10    Loss: 3.791108835697174\n",
            "\n",
            "Epoch:    3/10    Loss: 3.770648250102997\n",
            "\n",
            "Epoch:    3/10    Loss: 3.7511499223709106\n",
            "\n",
            "Epoch:    3/10    Loss: 3.76228093624115\n",
            "\n",
            "Epoch:    3/10    Loss: 3.7680154490470885\n",
            "\n",
            "Epoch:    4/10    Loss: 3.681695917688533\n",
            "\n",
            "Epoch:    4/10    Loss: 3.5964393043518066\n",
            "\n",
            "Epoch:    4/10    Loss: 3.6135486278533935\n",
            "\n",
            "Epoch:    4/10    Loss: 3.625958110809326\n",
            "\n",
            "Epoch:    4/10    Loss: 3.613463209629059\n",
            "\n",
            "Epoch:    4/10    Loss: 3.621906195640564\n",
            "\n",
            "Epoch:    4/10    Loss: 3.634985827922821\n",
            "\n",
            "Epoch:    4/10    Loss: 3.6618115320205686\n",
            "\n",
            "Epoch:    4/10    Loss: 3.6340696544647217\n",
            "\n",
            "Epoch:    4/10    Loss: 3.646097050666809\n",
            "\n",
            "Epoch:    4/10    Loss: 3.658961404800415\n",
            "\n",
            "Epoch:    4/10    Loss: 3.6530852451324463\n",
            "\n",
            "Epoch:    4/10    Loss: 3.6553772540092466\n",
            "\n",
            "Epoch:    5/10    Loss: 3.587904081009982\n",
            "\n",
            "Epoch:    5/10    Loss: 3.5033376722335814\n",
            "\n",
            "Epoch:    5/10    Loss: 3.518846321582794\n",
            "\n",
            "Epoch:    5/10    Loss: 3.5069424686431883\n",
            "\n",
            "Epoch:    5/10    Loss: 3.5188895440101624\n",
            "\n",
            "Epoch:    5/10    Loss: 3.531799758911133\n",
            "\n",
            "Epoch:    5/10    Loss: 3.5375438318252566\n",
            "\n",
            "Epoch:    5/10    Loss: 3.541709538936615\n",
            "\n",
            "Epoch:    5/10    Loss: 3.5532159786224367\n",
            "\n",
            "Epoch:    5/10    Loss: 3.5636648211479187\n",
            "\n",
            "Epoch:    5/10    Loss: 3.556404672622681\n",
            "\n",
            "Epoch:    5/10    Loss: 3.5727462420463563\n",
            "\n",
            "Epoch:    5/10    Loss: 3.5778145027160644\n",
            "\n",
            "Epoch:    6/10    Loss: 3.512476928462923\n",
            "\n",
            "Epoch:    6/10    Loss: 3.435952534198761\n",
            "\n",
            "Epoch:    6/10    Loss: 3.4466313796043395\n",
            "\n",
            "Epoch:    6/10    Loss: 3.445546953678131\n",
            "\n",
            "Epoch:    6/10    Loss: 3.443593855381012\n",
            "\n",
            "Epoch:    6/10    Loss: 3.4330009999275206\n",
            "\n",
            "Epoch:    6/10    Loss: 3.445494921207428\n",
            "\n",
            "Epoch:    6/10    Loss: 3.488729877948761\n",
            "\n",
            "Epoch:    6/10    Loss: 3.475457812309265\n",
            "\n",
            "Epoch:    6/10    Loss: 3.4834243240356444\n",
            "\n",
            "Epoch:    6/10    Loss: 3.4919071497917176\n",
            "\n",
            "Epoch:    6/10    Loss: 3.493992615699768\n",
            "\n",
            "Epoch:    6/10    Loss: 3.4966701288223265\n",
            "\n",
            "Epoch:    7/10    Loss: 3.434321188705255\n",
            "\n",
            "Epoch:    7/10    Loss: 3.3547967972755433\n",
            "\n",
            "Epoch:    7/10    Loss: 3.3815931401252746\n",
            "\n",
            "Epoch:    7/10    Loss: 3.374556930541992\n",
            "\n",
            "Epoch:    7/10    Loss: 3.392210349082947\n",
            "\n",
            "Epoch:    7/10    Loss: 3.3936689739227295\n",
            "\n",
            "Epoch:    7/10    Loss: 3.413735921382904\n",
            "\n",
            "Epoch:    7/10    Loss: 3.4202342653274536\n",
            "\n",
            "Epoch:    7/10    Loss: 3.418891137123108\n",
            "\n",
            "Epoch:    7/10    Loss: 3.4240430965423583\n",
            "\n",
            "Epoch:    7/10    Loss: 3.427705793380737\n",
            "\n",
            "Epoch:    7/10    Loss: 3.443395751953125\n",
            "\n",
            "Epoch:    7/10    Loss: 3.442142641067505\n",
            "\n",
            "Epoch:    8/10    Loss: 3.3771669662896815\n",
            "\n",
            "Epoch:    8/10    Loss: 3.3052831120491026\n",
            "\n",
            "Epoch:    8/10    Loss: 3.3248608593940734\n",
            "\n",
            "Epoch:    8/10    Loss: 3.337682192802429\n",
            "\n",
            "Epoch:    8/10    Loss: 3.3123676733970644\n",
            "\n",
            "Epoch:    8/10    Loss: 3.345435203075409\n",
            "\n",
            "Epoch:    8/10    Loss: 3.3643874568939207\n",
            "\n",
            "Epoch:    8/10    Loss: 3.3625291576385496\n",
            "\n",
            "Epoch:    8/10    Loss: 3.3735683546066286\n",
            "\n",
            "Epoch:    8/10    Loss: 3.3659888014793395\n",
            "\n",
            "Epoch:    8/10    Loss: 3.3791188650131225\n",
            "\n",
            "Epoch:    8/10    Loss: 3.402595255851746\n",
            "\n",
            "Epoch:    8/10    Loss: 3.408807502269745\n",
            "\n",
            "Epoch:    9/10    Loss: 3.3242884998597106\n",
            "\n",
            "Epoch:    9/10    Loss: 3.26539032459259\n",
            "\n",
            "Epoch:    9/10    Loss: 3.271525929927826\n",
            "\n",
            "Epoch:    9/10    Loss: 3.282035717964172\n",
            "\n",
            "Epoch:    9/10    Loss: 3.2731960411071777\n",
            "\n",
            "Epoch:    9/10    Loss: 3.2917857575416565\n",
            "\n",
            "Epoch:    9/10    Loss: 3.319867369174957\n",
            "\n",
            "Epoch:    9/10    Loss: 3.3021123299598694\n",
            "\n",
            "Epoch:    9/10    Loss: 3.331606867790222\n",
            "\n",
            "Epoch:    9/10    Loss: 3.3587089557647705\n",
            "\n",
            "Epoch:    9/10    Loss: 3.3265421957969665\n",
            "\n",
            "Epoch:    9/10    Loss: 3.3656301412582397\n",
            "\n",
            "Epoch:    9/10    Loss: 3.379563051700592\n",
            "\n",
            "Epoch:   10/10    Loss: 3.2884560453141316\n",
            "\n",
            "Epoch:   10/10    Loss: 3.2199179129600526\n",
            "\n",
            "Epoch:   10/10    Loss: 3.21721274805069\n",
            "\n",
            "Epoch:   10/10    Loss: 3.242772789001465\n",
            "\n",
            "Epoch:   10/10    Loss: 3.2495421571731566\n",
            "\n",
            "Epoch:   10/10    Loss: 3.262765197753906\n",
            "\n",
            "Epoch:   10/10    Loss: 3.274362684726715\n",
            "\n",
            "Epoch:   10/10    Loss: 3.300114850997925\n",
            "\n",
            "Epoch:   10/10    Loss: 3.2884520716667174\n",
            "\n",
            "Epoch:   10/10    Loss: 3.2909634752273558\n",
            "\n",
            "Epoch:   10/10    Loss: 3.3172295818328856\n",
            "\n",
            "Epoch:   10/10    Loss: 3.333906713962555\n",
            "\n",
            "Epoch:   10/10    Loss: 3.335131292819977\n",
            "\n",
            "Model Trained and Saved\n"
          ],
          "name": "stdout"
        },
        {
          "output_type": "stream",
          "text": [
            "/usr/local/lib/python3.6/dist-packages/torch/serialization.py:292: UserWarning: Couldn't retrieve source code for container of type RNN. It won't be checked for correctness upon loading.\n",
            "  \"type \" + obj.__name__ + \". It won't be checked \"\n",
            "/usr/local/lib/python3.6/dist-packages/torch/serialization.py:292: UserWarning: Couldn't retrieve source code for container of type Embedding. It won't be checked for correctness upon loading.\n",
            "  \"type \" + obj.__name__ + \". It won't be checked \"\n",
            "/usr/local/lib/python3.6/dist-packages/torch/serialization.py:292: UserWarning: Couldn't retrieve source code for container of type LSTM. It won't be checked for correctness upon loading.\n",
            "  \"type \" + obj.__name__ + \". It won't be checked \"\n",
            "/usr/local/lib/python3.6/dist-packages/torch/serialization.py:292: UserWarning: Couldn't retrieve source code for container of type Linear. It won't be checked for correctness upon loading.\n",
            "  \"type \" + obj.__name__ + \". It won't be checked \"\n"
          ],
          "name": "stderr"
        }
      ]
    },
    {
      "cell_type": "markdown",
      "metadata": {
        "id": "c4VA-5WY90mh",
        "colab_type": "text"
      },
      "source": [
        "### Question: How did you decide on your model hyperparameters? \n",
        "For example, did you try different sequence_lengths and find that one size made the model converge faster? What about your hidden_dim and n_layers; how did you decide on those?"
      ]
    },
    {
      "cell_type": "markdown",
      "metadata": {
        "id": "9p0XvgD_90mk",
        "colab_type": "text"
      },
      "source": [
        "**Answer:** Since the average lenght of most lines in dataset is ~5.5, I was planning to start with sequence length 20 and gradually tweak it till 10 (but the model converge to less than 3.5 average loss on first few attempts so I didn't tweak it further), for hidden_dim, we learnt in Lessson: \"Hyperparameters\" that it represent the \"learning capacity\" of the model so I kept it above 200 (256 to be exact) since I want it to learn sentence and dialog structure of the script. We learnt that No. of layers for models that handle language should be either 2 or 3 (not greater than that) so I started off with 2, again the model converged to the required threshold so in order to save GPU I stopped tweaking it at this point)"
      ]
    },
    {
      "cell_type": "markdown",
      "metadata": {
        "id": "YAXgqPu190mn",
        "colab_type": "text"
      },
      "source": [
        "---\n",
        "# Checkpoint\n",
        "\n",
        "After running the above training cell, your model will be saved by name, `trained_rnn`, and if you save your notebook progress, **you can pause here and come back to this code at another time**. You can resume your progress by running the next cell, which will load in our word:id dictionaries _and_ load in your saved model by name!"
      ]
    },
    {
      "cell_type": "code",
      "metadata": {
        "id": "h_pMo2uF90mr",
        "colab_type": "code",
        "colab": {}
      },
      "source": [
        "\"\"\"\n",
        "DON'T MODIFY ANYTHING IN THIS CELL\n",
        "\"\"\"\n",
        "import torch\n",
        "import helper\n",
        "import problem_unittests as tests\n",
        "\n",
        "_, vocab_to_int, int_to_vocab, token_dict = helper.load_preprocess()\n",
        "trained_rnn = helper.load_model('./save/trained_rnn')"
      ],
      "execution_count": 0,
      "outputs": []
    },
    {
      "cell_type": "markdown",
      "metadata": {
        "id": "sKriq6ci90mv",
        "colab_type": "text"
      },
      "source": [
        "## Generate TV Script\n",
        "With the network trained and saved, you'll use it to generate a new, \"fake\" Seinfeld TV script in this section.\n",
        "\n",
        "### Generate Text\n",
        "To generate the text, the network needs to start with a single word and repeat its predictions until it reaches a set length. You'll be using the `generate` function to do this. It takes a word id to start with, `prime_id`, and generates a set length of text, `predict_len`. Also note that it uses topk sampling to introduce some randomness in choosing the most likely next word, given an output set of word scores!"
      ]
    },
    {
      "cell_type": "code",
      "metadata": {
        "id": "MEi1OXsE90mw",
        "colab_type": "code",
        "colab": {}
      },
      "source": [
        "\"\"\"\n",
        "DON'T MODIFY ANYTHING IN THIS CELL THAT IS BELOW THIS LINE\n",
        "\"\"\"\n",
        "import torch.nn.functional as F\n",
        "\n",
        "def generate(rnn, prime_id, int_to_vocab, token_dict, pad_value, predict_len=100):\n",
        "    \"\"\"\n",
        "    Generate text using the neural network\n",
        "    :param decoder: The PyTorch Module that holds the trained neural network\n",
        "    :param prime_id: The word id to start the first prediction\n",
        "    :param int_to_vocab: Dict of word id keys to word values\n",
        "    :param token_dict: Dict of puncuation tokens keys to puncuation values\n",
        "    :param pad_value: The value used to pad a sequence\n",
        "    :param predict_len: The length of text to generate\n",
        "    :return: The generated text\n",
        "    \"\"\"\n",
        "    rnn.eval()\n",
        "    \n",
        "    # create a sequence (batch_size=1) with the prime_id\n",
        "    current_seq = np.full((1, sequence_length), pad_value)\n",
        "    current_seq[-1][-1] = prime_id\n",
        "    predicted = [int_to_vocab[prime_id]]\n",
        "    \n",
        "    for _ in range(predict_len):\n",
        "        if train_on_gpu:\n",
        "            current_seq = torch.LongTensor(current_seq).cuda()\n",
        "        else:\n",
        "            current_seq = torch.LongTensor(current_seq)\n",
        "        \n",
        "        # initialize the hidden state\n",
        "        hidden = rnn.init_hidden(current_seq.size(0))\n",
        "        \n",
        "        # get the output of the rnn\n",
        "        output, _ = rnn(current_seq, hidden)\n",
        "        \n",
        "        # get the next word probabilities\n",
        "        p = F.softmax(output, dim=1).data\n",
        "        if(train_on_gpu):\n",
        "            p = p.cpu() # move to cpu\n",
        "         \n",
        "        # use top_k sampling to get the index of the next word\n",
        "        top_k = 5\n",
        "        p, top_i = p.topk(top_k)\n",
        "        top_i = top_i.numpy().squeeze()\n",
        "        \n",
        "        # select the likely next word index with some element of randomness\n",
        "        p = p.numpy().squeeze()\n",
        "        word_i = np.random.choice(top_i, p=p/p.sum())\n",
        "        \n",
        "        # retrieve that word from the dictionary\n",
        "        word = int_to_vocab[word_i]\n",
        "        predicted.append(word)     \n",
        "        \n",
        "        if(train_on_gpu):\n",
        "            current_seq = current_seq.cpu() # move to cpu\n",
        "        # the generated word becomes the next \"current sequence\" and the cycle can continue\n",
        "        if train_on_gpu:\n",
        "            current_seq = current_seq.cpu()\n",
        "        current_seq = np.roll(current_seq, -1, 1)\n",
        "        current_seq[-1][-1] = word_i\n",
        "    \n",
        "    gen_sentences = ' '.join(predicted)\n",
        "    \n",
        "    # Replace punctuation tokens\n",
        "    for key, token in token_dict.items():\n",
        "        ending = ' ' if key in ['\\n', '(', '\"'] else ''\n",
        "        gen_sentences = gen_sentences.replace(' ' + token.lower(), key)\n",
        "    gen_sentences = gen_sentences.replace('\\n ', '\\n')\n",
        "    gen_sentences = gen_sentences.replace('( ', '(')\n",
        "    \n",
        "    # return all the sentences\n",
        "    return gen_sentences"
      ],
      "execution_count": 0,
      "outputs": []
    },
    {
      "cell_type": "markdown",
      "metadata": {
        "id": "4CzhNe4_90m1",
        "colab_type": "text"
      },
      "source": [
        "### Generate a New Script\n",
        "It's time to generate the text. Set `gen_length` to the length of TV script you want to generate and set `prime_word` to one of the following to start the prediction:\n",
        "- \"jerry\"\n",
        "- \"elaine\"\n",
        "- \"george\"\n",
        "- \"kramer\"\n",
        "\n",
        "You can set the prime word to _any word_ in our dictionary, but it's best to start with a name for generating a TV script. (You can also start with any other names you find in the original text file!)"
      ]
    },
    {
      "cell_type": "code",
      "metadata": {
        "id": "LYIRUuTs90m2",
        "colab_type": "code",
        "colab": {
          "base_uri": "https://localhost:8080/",
          "height": 986
        },
        "outputId": "9bfbfc1a-39cd-4687-d313-a782c7b27b80"
      },
      "source": [
        "# run the cell multiple times to get different results!\n",
        "gen_length = 400 # modify the length to your preference\n",
        "prime_word = 'jerry' # name for starting the script\n",
        "\n",
        "\"\"\"\n",
        "DON'T MODIFY ANYTHING IN THIS CELL THAT IS BELOW THIS LINE\n",
        "\"\"\"\n",
        "pad_word = helper.SPECIAL_WORDS['PADDING']\n",
        "generated_script = generate(trained_rnn, vocab_to_int[prime_word + ':'], int_to_vocab, token_dict, vocab_to_int[pad_word], gen_length)\n",
        "print(generated_script)"
      ],
      "execution_count": 38,
      "outputs": [
        {
          "output_type": "stream",
          "text": [
            "jerry: the owner is a lot of tradition.\n",
            "\n",
            "george:(to the other person) oh, my god. you know, i'm not really going back to the airport, and we gotta be a little nervous. i got the feeling on the phone.\n",
            "\n",
            "kramer: hey, hey, hey, what are you doing here?\n",
            "\n",
            "jerry: what?\n",
            "\n",
            "george: i know, i don't want to talk to him. you want to be a little nervous, or something?\n",
            "\n",
            "kramer: well, it's a little awkward.\n",
            "\n",
            "jerry: so, what is the difference?\n",
            "\n",
            "kramer: i got a lot of money.\n",
            "\n",
            "jerry:(still excited) yeah.\n",
            "\n",
            "newman: i can't believe you.(he exits.)\n",
            "\n",
            "jerry:(to george) what?\n",
            "\n",
            "kramer:(urgent) yeah.....\n",
            "\n",
            "jerry:(pointing to his girlfriend) what?\n",
            "\n",
            "george: i got the job.\n",
            "\n",
            "jerry: oh, you can't.\n",
            "\n",
            "george: i thought you were defective.\n",
            "\n",
            "jerry: well, maybe i should get it....\n",
            "\n",
            "elaine:(cont'd) i don't think i could be comfortable in the bathroom.\n",
            "\n",
            "george:(pause) i thought he would have said the best.\n",
            "\n",
            "elaine:(pause) oh yeah, right. i don't understand.\n",
            "\n",
            "jerry: i don't think you could.\n",
            "\n",
            "elaine: i don't understand if i could get a chance to get it in my office.\n",
            "\n",
            "jerry:(to himself) oh, you see, i'm sorry..\n",
            "\n",
            "george: no, you don't think i can.\n",
            "\n",
            "jerry: i mean, i was trying to be the only one who could get a. m...\n",
            "\n",
            "elaine: i thought we have a good time.\n",
            "\n",
            "jerry: i know. i don't know how you can be able to get it...\n",
            "\n",
            "kramer: yeah... i don't even know how i was going to get a new plates.\n",
            "\n",
            "jerry: you got\n"
          ],
          "name": "stdout"
        }
      ]
    },
    {
      "cell_type": "markdown",
      "metadata": {
        "id": "LAy0sMXb90m6",
        "colab_type": "text"
      },
      "source": [
        "#### Save your favorite scripts\n",
        "\n",
        "Once you have a script that you like (or find interesting), save it to a text file!"
      ]
    },
    {
      "cell_type": "code",
      "metadata": {
        "id": "7894lEjf90m7",
        "colab_type": "code",
        "colab": {}
      },
      "source": [
        "# save script to a text file\n",
        "f =  open(\"generated_script_1.txt\",\"w\")\n",
        "f.write(generated_script)\n",
        "f.close()"
      ],
      "execution_count": 0,
      "outputs": []
    },
    {
      "cell_type": "markdown",
      "metadata": {
        "id": "CNeC5qOJ90m_",
        "colab_type": "text"
      },
      "source": [
        "# The TV Script is Not Perfect\n",
        "It's ok if the TV script doesn't make perfect sense. It should look like alternating lines of dialogue, here is one such example of a few generated lines.\n",
        "\n",
        "### Example generated script\n",
        "\n",
        ">jerry: what about me?\n",
        ">\n",
        ">jerry: i don't have to wait.\n",
        ">\n",
        ">kramer:(to the sales table)\n",
        ">\n",
        ">elaine:(to jerry) hey, look at this, i'm a good doctor.\n",
        ">\n",
        ">newman:(to elaine) you think i have no idea of this...\n",
        ">\n",
        ">elaine: oh, you better take the phone, and he was a little nervous.\n",
        ">\n",
        ">kramer:(to the phone) hey, hey, jerry, i don't want to be a little bit.(to kramer and jerry) you can't.\n",
        ">\n",
        ">jerry: oh, yeah. i don't even know, i know.\n",
        ">\n",
        ">jerry:(to the phone) oh, i know.\n",
        ">\n",
        ">kramer:(laughing) you know...(to jerry) you don't know.\n",
        "\n",
        "You can see that there are multiple characters that say (somewhat) complete sentences, but it doesn't have to be perfect! It takes quite a while to get good results, and often, you'll have to use a smaller vocabulary (and discard uncommon words), or get more data.  The Seinfeld dataset is about 3.4 MB, which is big enough for our purposes; for script generation you'll want more than 1 MB of text, generally. \n",
        "\n",
        "# Submitting This Project\n",
        "When submitting this project, make sure to run all the cells before saving the notebook. Save the notebook file as \"dlnd_tv_script_generation.ipynb\" and save another copy as an HTML file by clicking \"File\" -> \"Download as..\"->\"html\". Include the \"helper.py\" and \"problem_unittests.py\" files in your submission. Once you download these files, compress them into one zip file for submission."
      ]
    },
    {
      "cell_type": "code",
      "metadata": {
        "id": "OrppruY-90nB",
        "colab_type": "code",
        "colab": {}
      },
      "source": [
        ""
      ],
      "execution_count": 0,
      "outputs": []
    }
  ]
}